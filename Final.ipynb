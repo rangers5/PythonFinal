{
 "cells": [
  {
   "cell_type": "markdown",
   "metadata": {},
   "source": [
    "# This will be the main file for the final\n",
    "    -I might have other files that I use for functions and import"
   ]
  },
  {
   "cell_type": "code",
   "execution_count": 44,
   "metadata": {},
   "outputs": [],
   "source": [
    "#Import numpy and pandas\n",
    "import numpy as np\n",
    "import pandas as pd\n",
    "\n",
    "#Improt the CSV and make the chonky dataframe\n",
    "data = pd.concat([pd.read_csv('data/phs_2020_1.csv'),pd.read_csv('data/phs_2020_2.csv')])\n",
    "del data[\"start_time\"]\n",
    "del data[\"esports_match_id\"]\n",
    "\n",
    "#Make some useful functions and variables\n",
    "allPlayers = data[\"player_name\"].unique()\n",
    "allStats = data[\"stat_name\"].unique()\n",
    "heroNames = data[\"hero_name\"].unique()\n",
    "tankHeros = [\"D.Va\",\"Orisa\",\"Reinhardt\",\"Roadhog\", \"Sigma\", \"Winston\", \"Wrecking Ball\", \"Zarya\"]\n",
    "dpsHeros = [\"Ashe\",\"Bastion\",\"Doomfist\",\"Echo\",\"Genji\",\"Hanzo\",\"Junkrat\",\"McCree\",\"Mei\",\"Pharah\",\"Reaper\",\"Soldier: 76\",\"Sombra\",\"Symmetra\",\"Torbjörn\",\"Tracer\",\"Widowmaker\"]\n",
    "supportHeros = [\"Ana\",\"Baptiste\",\"Brigitte\",\"Lúcio\",\"Mercy\",\"Moira\",\"Zenyatta\"]\n",
    "#These stats are total stats, so they need to be adjusted with time (getPlayerData function does this automatically)\n",
    "importantTotalStats = [\"All Damage Done\", \"Damage Taken\", \"Deaths\", \"Final Blows\", \"Objective Kills\", \"Healing Done\"]\n",
    "\n",
    "#Returns a dataframe with the important stats for a specific player with respect to time\n",
    "#Note that certian stats are tracked oddly in the dataset (i.e Hog Heal is not attributed to Healing Recieved) so be aware of that\n",
    "def getPlayerData(playerName):\n",
    "    playerFrame = data[data.player_name == playerName]\n",
    "    returnFrame = pd.DataFrame(index=playerFrame[\"hero_name\"].unique())\n",
    "    timeFrame = playerFrame[playerFrame.stat_name == \"Time Played\"]  \n",
    "    timeFrame = timeFrame.groupby(timeFrame[\"hero_name\"]).sum()\n",
    "    #Converts to per 10 min instead of per second\n",
    "    timeFrame = timeFrame / 600\n",
    "    for stat in importantTotalStats:\n",
    "        tempFrame = playerFrame[playerFrame.stat_name == stat]  \n",
    "        tempFrame = tempFrame.groupby(tempFrame[\"hero_name\"]).sum()\n",
    "        tempFrame = tempFrame / timeFrame\n",
    "        returnFrame[stat] = tempFrame[\"stat_amount\"]\n",
    "    returnFrame = returnFrame.dropna(how='all')\n",
    "    return returnFrame.fillna(0)\n",
    "    "
   ]
  },
  {
   "cell_type": "code",
   "execution_count": 45,
   "metadata": {},
   "outputs": [
    {
     "output_type": "execute_result",
     "data": {
      "text/plain": [
       "             All Damage Done  Damage Taken     Deaths  Final Blows  \\\n",
       "All Heroes      18278.890171   4856.462411   5.706473     7.262784   \n",
       "Mei             26074.223059   5577.477735   5.670469     5.180429   \n",
       "Soldier: 76     11217.352211   2927.585775   7.449864     7.449864   \n",
       "Baptiste         8393.356171   3815.378655   7.610727     2.174493   \n",
       "Brigitte         5239.092148   4994.591034   5.172191     2.821195   \n",
       "Moira            2274.272040    423.818117   0.000000     7.426742   \n",
       "Torbjörn        18026.065842   5512.054324   5.536489     8.304734   \n",
       "Doomfist         7096.272345   7280.320726  15.907917     1.988490   \n",
       "Pharah          14633.877716   5200.604907   5.760834    13.737373   \n",
       "Junkrat         17955.055998   3527.985881   5.411200     9.740161   \n",
       "Tracer           8773.011958   4020.656204   8.379863     3.591370   \n",
       "Echo            17573.311631   4697.320678   5.857859     9.922497   \n",
       "Symmetra        17207.656414   4960.531896   7.822778     9.387334   \n",
       "Sombra           7576.266791   3308.044414   4.604628     5.023231   \n",
       "Genji           13966.925053   4081.375839   5.728089    10.768808   \n",
       "\n",
       "             Objective Kills  Healing Done  \n",
       "All Heroes          6.447574    725.003529  \n",
       "Mei                 7.525623      0.000000  \n",
       "Soldier: 76         9.312330    997.676761  \n",
       "Baptiste            5.436234   6692.125565  \n",
       "Brigitte            5.407290   7393.471419  \n",
       "Moira               0.000000   4722.713706  \n",
       "Torbjörn            7.139157      0.000000  \n",
       "Doomfist            1.988490      0.000000  \n",
       "Pharah              6.203975      0.000000  \n",
       "Junkrat             2.525227      0.000000  \n",
       "Tracer              3.591370      0.000000  \n",
       "Echo                5.080796      0.000000  \n",
       "Symmetra           10.951890      0.000000  \n",
       "Sombra              6.418573      0.000000  \n",
       "Genji               7.102831      0.000000  "
      ],
      "text/html": "<div>\n<style scoped>\n    .dataframe tbody tr th:only-of-type {\n        vertical-align: middle;\n    }\n\n    .dataframe tbody tr th {\n        vertical-align: top;\n    }\n\n    .dataframe thead th {\n        text-align: right;\n    }\n</style>\n<table border=\"1\" class=\"dataframe\">\n  <thead>\n    <tr style=\"text-align: right;\">\n      <th></th>\n      <th>All Damage Done</th>\n      <th>Damage Taken</th>\n      <th>Deaths</th>\n      <th>Final Blows</th>\n      <th>Objective Kills</th>\n      <th>Healing Done</th>\n    </tr>\n  </thead>\n  <tbody>\n    <tr>\n      <th>All Heroes</th>\n      <td>18278.890171</td>\n      <td>4856.462411</td>\n      <td>5.706473</td>\n      <td>7.262784</td>\n      <td>6.447574</td>\n      <td>725.003529</td>\n    </tr>\n    <tr>\n      <th>Mei</th>\n      <td>26074.223059</td>\n      <td>5577.477735</td>\n      <td>5.670469</td>\n      <td>5.180429</td>\n      <td>7.525623</td>\n      <td>0.000000</td>\n    </tr>\n    <tr>\n      <th>Soldier: 76</th>\n      <td>11217.352211</td>\n      <td>2927.585775</td>\n      <td>7.449864</td>\n      <td>7.449864</td>\n      <td>9.312330</td>\n      <td>997.676761</td>\n    </tr>\n    <tr>\n      <th>Baptiste</th>\n      <td>8393.356171</td>\n      <td>3815.378655</td>\n      <td>7.610727</td>\n      <td>2.174493</td>\n      <td>5.436234</td>\n      <td>6692.125565</td>\n    </tr>\n    <tr>\n      <th>Brigitte</th>\n      <td>5239.092148</td>\n      <td>4994.591034</td>\n      <td>5.172191</td>\n      <td>2.821195</td>\n      <td>5.407290</td>\n      <td>7393.471419</td>\n    </tr>\n    <tr>\n      <th>Moira</th>\n      <td>2274.272040</td>\n      <td>423.818117</td>\n      <td>0.000000</td>\n      <td>7.426742</td>\n      <td>0.000000</td>\n      <td>4722.713706</td>\n    </tr>\n    <tr>\n      <th>Torbjörn</th>\n      <td>18026.065842</td>\n      <td>5512.054324</td>\n      <td>5.536489</td>\n      <td>8.304734</td>\n      <td>7.139157</td>\n      <td>0.000000</td>\n    </tr>\n    <tr>\n      <th>Doomfist</th>\n      <td>7096.272345</td>\n      <td>7280.320726</td>\n      <td>15.907917</td>\n      <td>1.988490</td>\n      <td>1.988490</td>\n      <td>0.000000</td>\n    </tr>\n    <tr>\n      <th>Pharah</th>\n      <td>14633.877716</td>\n      <td>5200.604907</td>\n      <td>5.760834</td>\n      <td>13.737373</td>\n      <td>6.203975</td>\n      <td>0.000000</td>\n    </tr>\n    <tr>\n      <th>Junkrat</th>\n      <td>17955.055998</td>\n      <td>3527.985881</td>\n      <td>5.411200</td>\n      <td>9.740161</td>\n      <td>2.525227</td>\n      <td>0.000000</td>\n    </tr>\n    <tr>\n      <th>Tracer</th>\n      <td>8773.011958</td>\n      <td>4020.656204</td>\n      <td>8.379863</td>\n      <td>3.591370</td>\n      <td>3.591370</td>\n      <td>0.000000</td>\n    </tr>\n    <tr>\n      <th>Echo</th>\n      <td>17573.311631</td>\n      <td>4697.320678</td>\n      <td>5.857859</td>\n      <td>9.922497</td>\n      <td>5.080796</td>\n      <td>0.000000</td>\n    </tr>\n    <tr>\n      <th>Symmetra</th>\n      <td>17207.656414</td>\n      <td>4960.531896</td>\n      <td>7.822778</td>\n      <td>9.387334</td>\n      <td>10.951890</td>\n      <td>0.000000</td>\n    </tr>\n    <tr>\n      <th>Sombra</th>\n      <td>7576.266791</td>\n      <td>3308.044414</td>\n      <td>4.604628</td>\n      <td>5.023231</td>\n      <td>6.418573</td>\n      <td>0.000000</td>\n    </tr>\n    <tr>\n      <th>Genji</th>\n      <td>13966.925053</td>\n      <td>4081.375839</td>\n      <td>5.728089</td>\n      <td>10.768808</td>\n      <td>7.102831</td>\n      <td>0.000000</td>\n    </tr>\n  </tbody>\n</table>\n</div>"
     },
     "metadata": {},
     "execution_count": 45
    }
   ],
   "source": [
    "getPlayerData(\"Rascal\")"
   ]
  },
  {
   "cell_type": "code",
   "execution_count": null,
   "metadata": {},
   "outputs": [],
   "source": []
  }
 ],
 "metadata": {
  "kernelspec": {
   "display_name": "Python 3",
   "language": "python",
   "name": "python3"
  },
  "language_info": {
   "codemirror_mode": {
    "name": "ipython",
    "version": 3
   },
   "file_extension": ".py",
   "mimetype": "text/x-python",
   "name": "python",
   "nbconvert_exporter": "python",
   "pygments_lexer": "ipython3",
   "version": "3.8.5-final"
  }
 },
 "nbformat": 4,
 "nbformat_minor": 4
}